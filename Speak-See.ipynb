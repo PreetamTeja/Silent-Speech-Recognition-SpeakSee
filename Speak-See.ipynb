{
 "cells": [
  {
   "cell_type": "code",
   "execution_count": 2,
   "id": "653feb74",
   "metadata": {
    "tags": []
   },
   "outputs": [],
   "source": [
    "import os\n",
    "import cv2\n",
    "import tensorflow as tf\n",
    "import numpy as np\n",
    "from typing import List\n",
    "from matplotlib import pyplot as plt\n",
    "import imageio"
   ]
  },
  {
   "cell_type": "code",
   "execution_count": 4,
   "id": "69b08ae7",
   "metadata": {
    "tags": []
   },
   "outputs": [],
   "source": [
    "physical_devices = tf.config.list_physical_devices('CPU')\n",
    "try:\n",
    "    tf.config.experimental.set_memory_growth(physical_devices[0], True)\n",
    "except:\n",
    "    pass"
   ]
  },
  {
   "cell_type": "markdown",
   "id": "4f639e21",
   "metadata": {
    "tags": []
   },
   "source": [
    "# Building Data Loading Functions"
   ]
  },
  {
   "cell_type": "code",
   "execution_count": 5,
   "id": "2b172657",
   "metadata": {
    "tags": []
   },
   "outputs": [],
   "source": [
    "def load_video(path:str) -> List[float]: \n",
    "\n",
    "    cap = cv2.VideoCapture(path)\n",
    "    frames = []\n",
    "    for _ in range(int(cap.get(cv2.CAP_PROP_FRAME_COUNT))): \n",
    "        ret, frame = cap.read()\n",
    "        frame = tf.image.rgb_to_grayscale(frame)\n",
    "        frames.append(frame[190:236,80:220,:])  \n",
    "    cap.release()\n",
    "    \n",
    "    mean = tf.math.reduce_mean(frames)\n",
    "    std = tf.math.reduce_std(tf.cast(frames, tf.float32))\n",
    "    return tf.cast((frames - mean), tf.float32) / std"
   ]
  },
  {
   "cell_type": "markdown",
   "id": "7f074f63",
   "metadata": {},
   "source": [
    "<img src=\"Input Preprocessing.png\" alt=\"Input Video Cropping\" width=\"500\">\n"
   ]
  },
  {
   "cell_type": "code",
   "execution_count": 6,
   "id": "a35bc433",
   "metadata": {
    "tags": []
   },
   "outputs": [],
   "source": [
    "vocab = [x for x in \"abcdefghijklmnopqrstuvwxyz'?!123456789 \"]"
   ]
  },
  {
   "cell_type": "code",
   "execution_count": 7,
   "id": "85be4e04",
   "metadata": {
    "tags": []
   },
   "outputs": [
    {
     "name": "stdout",
     "output_type": "stream",
     "text": [
      "The vocabulary is: ['', 'a', 'b', 'c', 'd', 'e', 'f', 'g', 'h', 'i', 'j', 'k', 'l', 'm', 'n', 'o', 'p', 'q', 'r', 's', 't', 'u', 'v', 'w', 'x', 'y', 'z', \"'\", '?', '!', '1', '2', '3', '4', '5', '6', '7', '8', '9', ' '] (size =40)\n"
     ]
    }
   ],
   "source": [
    "char_to_num = tf.keras.layers.StringLookup(vocabulary=vocab, oov_token=\"\")\n",
    "num_to_char = tf.keras.layers.StringLookup(\n",
    "    vocabulary=char_to_num.get_vocabulary(), oov_token=\"\", invert=True\n",
    ")\n",
    "\n",
    "print(\n",
    "    f\"The vocabulary is: {char_to_num.get_vocabulary()} \"\n",
    "    f\"(size ={char_to_num.vocabulary_size()})\"\n",
    ")"
   ]
  },
  {
   "cell_type": "code",
   "execution_count": 58,
   "id": "643aac45",
   "metadata": {
    "tags": []
   },
   "outputs": [
    {
     "name": "stdout",
     "output_type": "stream",
     "text": [
      "tf.Tensor([20  5  1 13 30  0], shape=(6,), dtype=int64)\n",
      "tf.Tensor([b'a' b'b' b'c' b'd' b'e' b'f'], shape=(6,), dtype=string)\n"
     ]
    }
   ],
   "source": [
    "print(char_to_num(['t','e','a','m','1','0']))\n",
    "print(num_to_char([1,  2,  3, 4, 5, 6,]))"
   ]
  },
  {
   "cell_type": "code",
   "execution_count": 11,
   "id": "4809c5c5",
   "metadata": {
    "tags": []
   },
   "outputs": [],
   "source": [
    "def load_alignments(path:str) -> List[str]: \n",
    "    with open(path, 'r') as f: \n",
    "        lines = f.readlines() \n",
    "    tokens = []\n",
    "    for line in lines:\n",
    "        line = line.split()\n",
    "        if line[2] != 'sil': \n",
    "            tokens = [*tokens,' ',line[2]]\n",
    "    return char_to_num(tf.reshape(tf.strings.unicode_split(tokens, input_encoding='UTF-8'), (-1)))[1:]"
   ]
  },
  {
   "cell_type": "code",
   "execution_count": 12,
   "id": "f0ec78c6",
   "metadata": {
    "tags": []
   },
   "outputs": [],
   "source": [
    "def load_data(path: str): \n",
    "    path = bytes.decode(path.numpy())\n",
    "    file_name = path.split('\\\\')[-1].split('.')[0]\n",
    "    video_path = os.path.join('data','s1',f'{file_name}.mpg')\n",
    "    alignment_path = os.path.join('data','alignments','s1',f'{file_name}.align')\n",
    "    \n",
    "    frames = load_video(video_path) \n",
    "    alignments = load_alignments(alignment_path)\n",
    "    \n",
    "    return frames, alignments\n"
   ]
  },
  {
   "cell_type": "code",
   "execution_count": 64,
   "id": "cd43d34c",
   "metadata": {
    "tags": []
   },
   "outputs": [],
   "source": [
    "test_path = '.\\\\data\\\\s1\\\\bbal6n.mpg'"
   ]
  },
  {
   "cell_type": "code",
   "execution_count": 65,
   "id": "e90d93cc",
   "metadata": {},
   "outputs": [
    {
     "data": {
      "text/plain": [
       "'bbal6n'"
      ]
     },
     "execution_count": 65,
     "metadata": {},
     "output_type": "execute_result"
    }
   ],
   "source": [
    "tf.convert_to_tensor(test_path).numpy().decode('utf-8').split('\\\\' )[-1].split('.')[0]"
   ]
  },
  {
   "cell_type": "code",
   "execution_count": 66,
   "id": "346c7caf",
   "metadata": {
    "scrolled": true,
    "tags": []
   },
   "outputs": [],
   "source": [
    "frames, alignments = load_data(tf.convert_to_tensor(test_path))"
   ]
  },
  {
   "cell_type": "code",
   "execution_count": 73,
   "id": "0b10c9cd",
   "metadata": {},
   "outputs": [
    {
     "data": {
      "text/plain": [
       "<matplotlib.image.AxesImage at 0x150517e4e80>"
      ]
     },
     "execution_count": 73,
     "metadata": {},
     "output_type": "execute_result"
    },
    {
     "data": {
      "image/png": "[encoded data removed]",
      "text/plain": [
       "<Figure size 640x480 with 1 Axes>"
      ]
     },
     "metadata": {},
     "output_type": "display_data"
    }
   ],
   "source": [
    "plt.imshow(frames[40])"
   ]
  },
  {
   "cell_type": "code",
   "execution_count": 20,
   "id": "d2a3f5d6",
   "metadata": {},
   "outputs": [
    {
     "data": {
      "text/plain": [
       "<tf.Tensor: shape=(21,), dtype=int64, numpy=\n",
       "array([ 2,  9, 14, 39,  2, 12, 21,  5, 39,  1, 20, 39, 12, 39, 19,  9, 24,\n",
       "       39, 14, 15, 23], dtype=int64)>"
      ]
     },
     "execution_count": 20,
     "metadata": {},
     "output_type": "execute_result"
    }
   ],
   "source": [
    "alignments"
   ]
  },
  {
   "cell_type": "code",
   "execution_count": 21,
   "id": "894dcb5a",
   "metadata": {},
   "outputs": [
    {
     "data": {
      "text/plain": [
       "<tf.Tensor: shape=(), dtype=string, numpy=b'bin blue at l six now'>"
      ]
     },
     "execution_count": 21,
     "metadata": {},
     "output_type": "execute_result"
    }
   ],
   "source": [
    "tf.strings.reduce_join([bytes.decode(x) for x in num_to_char(alignments.numpy()).numpy()])"
   ]
  },
  {
   "cell_type": "code",
   "execution_count": 22,
   "id": "2a744662",
   "metadata": {
    "tags": []
   },
   "outputs": [],
   "source": [
    "def mappable_function(path:str) ->List[str]:\n",
    "    result = tf.py_function(load_data, [path], (tf.float32, tf.int64))\n",
    "    return result"
   ]
  },
  {
   "cell_type": "markdown",
   "id": "a66901b9",
   "metadata": {
    "tags": []
   },
   "source": [
    "# Data Pipeline - Used for loading Data into the Model"
   ]
  },
  {
   "cell_type": "code",
   "execution_count": 23,
   "id": "a702004b",
   "metadata": {
    "tags": []
   },
   "outputs": [],
   "source": [
    "from matplotlib import pyplot as plt"
   ]
  },
  {
   "cell_type": "code",
   "execution_count": 24,
   "id": "5a046d96",
   "metadata": {
    "tags": []
   },
   "outputs": [],
   "source": [
    "data = tf.data.Dataset.list_files('./data/s1/*.mpg')\n",
    "data = data.shuffle(500, reshuffle_each_iteration=False)\n",
    "data = data.map(mappable_function)\n",
    "data = data.padded_batch(2, padded_shapes=([75,None,None,None],[40]))\n",
    "data = data.prefetch(tf.data.AUTOTUNE)\n",
    "# Added for split \n",
    "train = data.take(400)\n",
    "test = data.skip(400)"
   ]
  },
  {
   "cell_type": "code",
   "execution_count": 25,
   "id": "0c26cf1e",
   "metadata": {},
   "outputs": [
    {
     "name": "stdout",
     "output_type": "stream",
     "text": [
      "Test Dataset Length = 100\n"
     ]
    }
   ],
   "source": [
    "print(\"Test Dataset Length =\", len(test))"
   ]
  },
  {
   "cell_type": "code",
   "execution_count": null,
   "id": "d63e1c3b",
   "metadata": {},
   "outputs": [],
   "source": [
    "frames, alignments = data.as_numpy_iterator().next() "
   ]
  },
  {
   "cell_type": "code",
   "execution_count": 29,
   "id": "5df31c9e",
   "metadata": {},
   "outputs": [
    {
     "name": "stdout",
     "output_type": "stream",
     "text": [
      "Number of videos = 2\n",
      "Corresponding alignments = [[16 12  1  3  5 39 18  5  4 39  9 14 39 16 39 15 14  5 39 19 15 15 14  0\n",
      "   0  0  0  0  0  0  0  0  0  0  0  0  0  0  0  0]\n",
      " [16 12  1  3  5 39 23  8  9 20  5 39  2 25 39 17 39 19  9 24 39 16 12  5\n",
      "   1 19  5  0  0  0  0  0  0  0  0  0  0  0  0  0]]\n"
     ]
    }
   ],
   "source": [
    "print(\"Number of videos =\", len(frames))\n",
    "print(\"Corresponding alignments =\", alignments)\n"
   ]
  },
  {
   "cell_type": "code",
   "execution_count": 78,
   "id": "e3c19831",
   "metadata": {
    "tags": []
   },
   "outputs": [
    {
     "data": {
      "text/plain": [
       "array([[[[[1.5011237 ],\n",
       "          [1.4645109 ],\n",
       "          [1.4645109 ],\n",
       "          ...,\n",
       "          [0.4393533 ],\n",
       "          [0.4393533 ],\n",
       "          [0.4393533 ]],\n",
       "\n",
       "         [[1.5377365 ],\n",
       "          [1.4645109 ],\n",
       "          [1.3912854 ],\n",
       "          ...,\n",
       "          [0.4393533 ],\n",
       "          [0.4393533 ],\n",
       "          [0.4393533 ]],\n",
       "\n",
       "         [[1.5011237 ],\n",
       "          [1.5011237 ],\n",
       "          [1.5011237 ],\n",
       "          ...,\n",
       "          [0.32951495],\n",
       "          [0.32951495],\n",
       "          [0.32951495]],\n",
       "\n",
       "         ...,\n",
       "\n",
       "         [[1.0983832 ],\n",
       "          [1.0617704 ],\n",
       "          [1.0617704 ],\n",
       "          ...,\n",
       "          [0.10983832],\n",
       "          [0.10983832],\n",
       "          [0.10983832]],\n",
       "\n",
       "         [[1.0617704 ],\n",
       "          [1.0617704 ],\n",
       "          [1.0617704 ],\n",
       "          ...,\n",
       "          [0.07322555],\n",
       "          [0.07322555],\n",
       "          [0.07322555]],\n",
       "\n",
       "         [[1.0617704 ],\n",
       "          [1.0617704 ],\n",
       "          [1.0617704 ],\n",
       "          ...,\n",
       "          [0.03661278],\n",
       "          [0.03661278],\n",
       "          [0.03661278]]],\n",
       "\n",
       "\n",
       "        [[[1.5743493 ],\n",
       "          [1.5377365 ],\n",
       "          [1.5011237 ],\n",
       "          ...,\n",
       "          [0.36612773],\n",
       "          [0.4027405 ],\n",
       "          [0.4027405 ]],\n",
       "\n",
       "         [[1.6475748 ],\n",
       "          [1.5743493 ],\n",
       "          [1.4645109 ],\n",
       "          ...,\n",
       "          [0.36612773],\n",
       "          [0.4027405 ],\n",
       "          [0.4027405 ]],\n",
       "\n",
       "         [[1.3912854 ],\n",
       "          [1.3912854 ],\n",
       "          [1.4278982 ],\n",
       "          ...,\n",
       "          [0.36612773],\n",
       "          [0.36612773],\n",
       "          [0.36612773]],\n",
       "\n",
       "         ...,\n",
       "\n",
       "         [[1.0983832 ],\n",
       "          [1.0617704 ],\n",
       "          [1.0617704 ],\n",
       "          ...,\n",
       "          [0.07322555],\n",
       "          [0.07322555],\n",
       "          [0.07322555]],\n",
       "\n",
       "         [[1.0617704 ],\n",
       "          [1.0617704 ],\n",
       "          [1.0617704 ],\n",
       "          ...,\n",
       "          [0.07322555],\n",
       "          [0.03661278],\n",
       "          [0.03661278]],\n",
       "\n",
       "         [[1.0617704 ],\n",
       "          [1.0617704 ],\n",
       "          [1.0617704 ],\n",
       "          ...,\n",
       "          [0.03661278],\n",
       "          [0.03661278],\n",
       "          [0.        ]]],\n",
       "\n",
       "\n",
       "        [[[1.5011237 ],\n",
       "          [1.4645109 ],\n",
       "          [1.5011237 ],\n",
       "          ...,\n",
       "          [0.4027405 ],\n",
       "          [0.4027405 ],\n",
       "          [0.4027405 ]],\n",
       "\n",
       "         [[1.5743493 ],\n",
       "          [1.4645109 ],\n",
       "          [1.3546727 ],\n",
       "          ...,\n",
       "          [0.4027405 ],\n",
       "          [0.4027405 ],\n",
       "          [0.4027405 ]],\n",
       "\n",
       "         [[1.4645109 ],\n",
       "          [1.4645109 ],\n",
       "          [1.4278982 ],\n",
       "          ...,\n",
       "          [0.36612773],\n",
       "          [0.36612773],\n",
       "          [0.32951495]],\n",
       "\n",
       "         ...,\n",
       "\n",
       "         [[1.0983832 ],\n",
       "          [1.0617704 ],\n",
       "          [1.0617704 ],\n",
       "          ...,\n",
       "          [0.07322555],\n",
       "          [0.07322555],\n",
       "          [0.07322555]],\n",
       "\n",
       "         [[1.0617704 ],\n",
       "          [1.0617704 ],\n",
       "          [1.0617704 ],\n",
       "          ...,\n",
       "          [0.07322555],\n",
       "          [0.07322555],\n",
       "          [0.03661278]],\n",
       "\n",
       "         [[1.0617704 ],\n",
       "          [1.0617704 ],\n",
       "          [1.0617704 ],\n",
       "          ...,\n",
       "          [0.03661278],\n",
       "          [0.03661278],\n",
       "          [0.03661278]]],\n",
       "\n",
       "\n",
       "        ...,\n",
       "\n",
       "\n",
       "        [[[1.4278982 ],\n",
       "          [1.4278982 ],\n",
       "          [1.4645109 ],\n",
       "          ...,\n",
       "          [0.4027405 ],\n",
       "          [0.4027405 ],\n",
       "          [0.4027405 ]],\n",
       "\n",
       "         [[1.3546727 ],\n",
       "          [1.3546727 ],\n",
       "          [1.4645109 ],\n",
       "          ...,\n",
       "          [0.4027405 ],\n",
       "          [0.4027405 ],\n",
       "          [0.4027405 ]],\n",
       "\n",
       "         [[1.4645109 ],\n",
       "          [1.4645109 ],\n",
       "          [1.5377365 ],\n",
       "          ...,\n",
       "          [0.32951495],\n",
       "          [0.32951495],\n",
       "          [0.32951495]],\n",
       "\n",
       "         ...,\n",
       "\n",
       "         [[1.0617704 ],\n",
       "          [1.0617704 ],\n",
       "          [1.0251577 ],\n",
       "          ...,\n",
       "          [0.        ],\n",
       "          [0.        ],\n",
       "          [0.        ]],\n",
       "\n",
       "         [[1.0617704 ],\n",
       "          [1.0617704 ],\n",
       "          [1.0251577 ],\n",
       "          ...,\n",
       "          [0.        ],\n",
       "          [0.        ],\n",
       "          [0.        ]],\n",
       "\n",
       "         [[1.0617704 ],\n",
       "          [1.0617704 ],\n",
       "          [1.0251577 ],\n",
       "          ...,\n",
       "          [0.        ],\n",
       "          [0.        ],\n",
       "          [0.        ]]],\n",
       "\n",
       "\n",
       "        [[[1.3912854 ],\n",
       "          [1.4645109 ],\n",
       "          [1.4278982 ],\n",
       "          ...,\n",
       "          [0.36612773],\n",
       "          [0.36612773],\n",
       "          [0.36612773]],\n",
       "\n",
       "         [[1.3546727 ],\n",
       "          [1.4645109 ],\n",
       "          [1.4278982 ],\n",
       "          ...,\n",
       "          [0.36612773],\n",
       "          [0.36612773],\n",
       "          [0.36612773]],\n",
       "\n",
       "         [[1.4645109 ],\n",
       "          [1.4645109 ],\n",
       "          [1.5377365 ],\n",
       "          ...,\n",
       "          [0.36612773],\n",
       "          [0.36612773],\n",
       "          [0.36612773]],\n",
       "\n",
       "         ...,\n",
       "\n",
       "         [[1.0617704 ],\n",
       "          [1.0617704 ],\n",
       "          [1.0251577 ],\n",
       "          ...,\n",
       "          [0.03661278],\n",
       "          [0.03661278],\n",
       "          [0.        ]],\n",
       "\n",
       "         [[1.0617704 ],\n",
       "          [1.0617704 ],\n",
       "          [1.0251577 ],\n",
       "          ...,\n",
       "          [0.03661278],\n",
       "          [0.        ],\n",
       "          [0.        ]],\n",
       "\n",
       "         [[1.0617704 ],\n",
       "          [1.0617704 ],\n",
       "          [1.0251577 ],\n",
       "          ...,\n",
       "          [0.        ],\n",
       "          [0.        ],\n",
       "          [0.        ]]],\n",
       "\n",
       "\n",
       "        [[[1.4278982 ],\n",
       "          [1.5377365 ],\n",
       "          [1.3912854 ],\n",
       "          ...,\n",
       "          [0.36612773],\n",
       "          [0.36612773],\n",
       "          [0.36612773]],\n",
       "\n",
       "         [[1.5011237 ],\n",
       "          [1.5377365 ],\n",
       "          [1.4278982 ],\n",
       "          ...,\n",
       "          [0.4027405 ],\n",
       "          [0.4027405 ],\n",
       "          [0.4027405 ]],\n",
       "\n",
       "         [[1.4278982 ],\n",
       "          [1.4278982 ],\n",
       "          [1.4278982 ],\n",
       "          ...,\n",
       "          [0.4027405 ],\n",
       "          [0.36612773],\n",
       "          [0.36612773]],\n",
       "\n",
       "         ...,\n",
       "\n",
       "         [[1.0983832 ],\n",
       "          [1.0983832 ],\n",
       "          [1.0251577 ],\n",
       "          ...,\n",
       "          [0.10983832],\n",
       "          [0.03661278],\n",
       "          [0.        ]],\n",
       "\n",
       "         [[1.0983832 ],\n",
       "          [1.0983832 ],\n",
       "          [1.0251577 ],\n",
       "          ...,\n",
       "          [0.07322555],\n",
       "          [0.        ],\n",
       "          [0.        ]],\n",
       "\n",
       "         [[1.0983832 ],\n",
       "          [1.0983832 ],\n",
       "          [1.0251577 ],\n",
       "          ...,\n",
       "          [0.03661278],\n",
       "          [0.        ],\n",
       "          [0.        ]]]],\n",
       "\n",
       "\n",
       "\n",
       "       [[[[1.4940101 ],\n",
       "          [1.3819593 ],\n",
       "          [1.3819593 ],\n",
       "          ...,\n",
       "          [0.11205076],\n",
       "          [0.4108528 ],\n",
       "          [0.37350252]],\n",
       "\n",
       "         [[1.3819593 ],\n",
       "          [1.4566599 ],\n",
       "          [1.4193096 ],\n",
       "          ...,\n",
       "          [0.18675126],\n",
       "          [0.44820303],\n",
       "          [0.4108528 ]],\n",
       "\n",
       "         [[1.4193096 ],\n",
       "          [1.4193096 ],\n",
       "          [1.3819593 ],\n",
       "          ...,\n",
       "          [0.26145178],\n",
       "          [0.29880202],\n",
       "          [0.29880202]],\n",
       "\n",
       "         ...,\n",
       "\n",
       "         [[1.0458071 ],\n",
       "          [1.0084568 ],\n",
       "          [0.9711066 ],\n",
       "          ...,\n",
       "          [0.03735025],\n",
       "          [0.03735025],\n",
       "          [0.03735025]],\n",
       "\n",
       "         [[1.0458071 ],\n",
       "          [1.0084568 ],\n",
       "          [0.9711066 ],\n",
       "          ...,\n",
       "          [0.03735025],\n",
       "          [0.03735025],\n",
       "          [0.03735025]],\n",
       "\n",
       "         [[1.0084568 ],\n",
       "          [1.0084568 ],\n",
       "          [0.9711066 ],\n",
       "          ...,\n",
       "          [0.03735025],\n",
       "          [0.03735025],\n",
       "          [0.        ]]],\n",
       "\n",
       "\n",
       "        [[[1.4940101 ],\n",
       "          [1.3819593 ],\n",
       "          [1.3819593 ],\n",
       "          ...,\n",
       "          [0.14940101],\n",
       "          [0.37350252],\n",
       "          [0.3361523 ]],\n",
       "\n",
       "         [[1.4193096 ],\n",
       "          [1.3819593 ],\n",
       "          [1.3819593 ],\n",
       "          ...,\n",
       "          [0.18675126],\n",
       "          [0.37350252],\n",
       "          [0.37350252]],\n",
       "\n",
       "         [[1.4566599 ],\n",
       "          [1.4566599 ],\n",
       "          [1.3819593 ],\n",
       "          ...,\n",
       "          [0.26145178],\n",
       "          [0.29880202],\n",
       "          [0.29880202]],\n",
       "\n",
       "         ...,\n",
       "\n",
       "         [[1.0458071 ],\n",
       "          [1.0084568 ],\n",
       "          [0.9711066 ],\n",
       "          ...,\n",
       "          [0.03735025],\n",
       "          [0.03735025],\n",
       "          [0.03735025]],\n",
       "\n",
       "         [[1.0458071 ],\n",
       "          [1.0084568 ],\n",
       "          [0.9711066 ],\n",
       "          ...,\n",
       "          [0.03735025],\n",
       "          [0.03735025],\n",
       "          [0.        ]],\n",
       "\n",
       "         [[1.0084568 ],\n",
       "          [1.0084568 ],\n",
       "          [0.9711066 ],\n",
       "          ...,\n",
       "          [0.03735025],\n",
       "          [0.        ],\n",
       "          [0.        ]]],\n",
       "\n",
       "\n",
       "        [[[1.4566599 ],\n",
       "          [1.3446091 ],\n",
       "          [1.3446091 ],\n",
       "          ...,\n",
       "          [0.14940101],\n",
       "          [0.3361523 ],\n",
       "          [0.29880202]],\n",
       "\n",
       "         [[1.4566599 ],\n",
       "          [1.3819593 ],\n",
       "          [1.3819593 ],\n",
       "          ...,\n",
       "          [0.18675126],\n",
       "          [0.29880202],\n",
       "          [0.29880202]],\n",
       "\n",
       "         [[1.5313604 ],\n",
       "          [1.5313604 ],\n",
       "          [1.4566599 ],\n",
       "          ...,\n",
       "          [0.26145178],\n",
       "          [0.29880202],\n",
       "          [0.29880202]],\n",
       "\n",
       "         ...,\n",
       "\n",
       "         [[1.0084568 ],\n",
       "          [1.0084568 ],\n",
       "          [0.9711066 ],\n",
       "          ...,\n",
       "          [0.03735025],\n",
       "          [0.03735025],\n",
       "          [0.03735025]],\n",
       "\n",
       "         [[1.0084568 ],\n",
       "          [1.0084568 ],\n",
       "          [0.9711066 ],\n",
       "          ...,\n",
       "          [0.03735025],\n",
       "          [0.03735025],\n",
       "          [0.03735025]],\n",
       "\n",
       "         [[0.9711066 ],\n",
       "          [1.0084568 ],\n",
       "          [0.9711066 ],\n",
       "          ...,\n",
       "          [0.03735025],\n",
       "          [0.03735025],\n",
       "          [0.        ]]],\n",
       "\n",
       "\n",
       "        ...,\n",
       "\n",
       "\n",
       "        [[[1.4940101 ],\n",
       "          [1.3446091 ],\n",
       "          [1.4566599 ],\n",
       "          ...,\n",
       "          [0.26145178],\n",
       "          [0.26145178],\n",
       "          [0.26145178]],\n",
       "\n",
       "         [[1.5313604 ],\n",
       "          [1.3819593 ],\n",
       "          [1.3819593 ],\n",
       "          ...,\n",
       "          [0.18675126],\n",
       "          [0.18675126],\n",
       "          [0.18675126]],\n",
       "\n",
       "         [[1.4566599 ],\n",
       "          [1.4566599 ],\n",
       "          [1.4940101 ],\n",
       "          ...,\n",
       "          [0.29880202],\n",
       "          [0.22410151],\n",
       "          [0.22410151]],\n",
       "\n",
       "         ...,\n",
       "\n",
       "         [[1.0458071 ],\n",
       "          [1.0458071 ],\n",
       "          [1.0458071 ],\n",
       "          ...,\n",
       "          [0.11205076],\n",
       "          [0.11205076],\n",
       "          [0.0747005 ]],\n",
       "\n",
       "         [[1.0458071 ],\n",
       "          [1.0458071 ],\n",
       "          [1.0458071 ],\n",
       "          ...,\n",
       "          [0.11205076],\n",
       "          [0.0747005 ],\n",
       "          [0.0747005 ]],\n",
       "\n",
       "         [[1.0458071 ],\n",
       "          [1.0458071 ],\n",
       "          [1.0084568 ],\n",
       "          ...,\n",
       "          [0.0747005 ],\n",
       "          [0.0747005 ],\n",
       "          [0.03735025]]],\n",
       "\n",
       "\n",
       "        [[[1.5313604 ],\n",
       "          [1.4566599 ],\n",
       "          [1.3819593 ],\n",
       "          ...,\n",
       "          [0.26145178],\n",
       "          [0.22410151],\n",
       "          [0.22410151]],\n",
       "\n",
       "         [[1.4566599 ],\n",
       "          [1.5687106 ],\n",
       "          [1.4566599 ],\n",
       "          ...,\n",
       "          [0.18675126],\n",
       "          [0.14940101],\n",
       "          [0.14940101]],\n",
       "\n",
       "         [[1.4193096 ],\n",
       "          [1.4193096 ],\n",
       "          [1.4193096 ],\n",
       "          ...,\n",
       "          [0.29880202],\n",
       "          [0.26145178],\n",
       "          [0.26145178]],\n",
       "\n",
       "         ...,\n",
       "\n",
       "         [[1.0458071 ],\n",
       "          [1.0458071 ],\n",
       "          [1.0458071 ],\n",
       "          ...,\n",
       "          [0.0747005 ],\n",
       "          [0.0747005 ],\n",
       "          [0.03735025]],\n",
       "\n",
       "         [[1.0458071 ],\n",
       "          [1.0458071 ],\n",
       "          [1.0084568 ],\n",
       "          ...,\n",
       "          [0.0747005 ],\n",
       "          [0.03735025],\n",
       "          [0.03735025]],\n",
       "\n",
       "         [[1.0458071 ],\n",
       "          [1.0084568 ],\n",
       "          [1.0084568 ],\n",
       "          ...,\n",
       "          [0.03735025],\n",
       "          [0.03735025],\n",
       "          [0.        ]]],\n",
       "\n",
       "\n",
       "        [[[1.4940101 ],\n",
       "          [1.4193096 ],\n",
       "          [1.3819593 ],\n",
       "          ...,\n",
       "          [0.26145178],\n",
       "          [0.22410151],\n",
       "          [0.22410151]],\n",
       "\n",
       "         [[1.4193096 ],\n",
       "          [1.5313604 ],\n",
       "          [1.4566599 ],\n",
       "          ...,\n",
       "          [0.18675126],\n",
       "          [0.14940101],\n",
       "          [0.14940101]],\n",
       "\n",
       "         [[1.4193096 ],\n",
       "          [1.4193096 ],\n",
       "          [1.4193096 ],\n",
       "          ...,\n",
       "          [0.29880202],\n",
       "          [0.29880202],\n",
       "          [0.29880202]],\n",
       "\n",
       "         ...,\n",
       "\n",
       "         [[1.0458071 ],\n",
       "          [1.0458071 ],\n",
       "          [1.0084568 ],\n",
       "          ...,\n",
       "          [0.0747005 ],\n",
       "          [0.0747005 ],\n",
       "          [0.03735025]],\n",
       "\n",
       "         [[1.0458071 ],\n",
       "          [1.0084568 ],\n",
       "          [1.0084568 ],\n",
       "          ...,\n",
       "          [0.0747005 ],\n",
       "          [0.03735025],\n",
       "          [0.03735025]],\n",
       "\n",
       "         [[1.0084568 ],\n",
       "          [1.0084568 ],\n",
       "          [1.0084568 ],\n",
       "          ...,\n",
       "          [0.03735025],\n",
       "          [0.03735025],\n",
       "          [0.        ]]]]], dtype=float32)"
      ]
     },
     "execution_count": 78,
     "metadata": {},
     "output_type": "execute_result"
    }
   ],
   "source": [
    "sample = data.as_numpy_iterator()\n",
    "val = sample.next(); val[0]"
   ]
  },
  {
   "cell_type": "code",
   "execution_count": 31,
   "id": "13b66421",
   "metadata": {
    "tags": []
   },
   "outputs": [
    {
     "data": {
      "text/plain": [
       "<matplotlib.image.AxesImage at 0x150516d6470>"
      ]
     },
     "execution_count": 31,
     "metadata": {},
     "output_type": "execute_result"
    },
    {
     "data": {
      "image/png": "[encoded data removed]",
      "text/plain": [
       "<Figure size 640x480 with 1 Axes>"
      ]
     },
     "metadata": {},
     "output_type": "display_data"
    }
   ],
   "source": [
    "plt.imshow(val[0][0][40])"
   ]
  },
  {
   "cell_type": "code",
   "execution_count": 33,
   "id": "bc162419",
   "metadata": {
    "tags": []
   },
   "outputs": [
    {
     "data": {
      "text/plain": [
       "<tf.Tensor: shape=(), dtype=string, numpy=b'bin red at g one again'>"
      ]
     },
     "execution_count": 33,
     "metadata": {},
     "output_type": "execute_result"
    }
   ],
   "source": [
    "tf.strings.reduce_join([num_to_char(word) for word in val[1][0]])"
   ]
  },
  {
   "cell_type": "markdown",
   "id": "ed971c8e",
   "metadata": {
    "tags": []
   },
   "source": [
    "# 3. Design the Deep Neural Network"
   ]
  },
  {
   "cell_type": "code",
   "execution_count": 34,
   "id": "73f17a35",
   "metadata": {
    "tags": []
   },
   "outputs": [],
   "source": [
    "from tensorflow.keras.models import Sequential  \n",
    "from tensorflow.keras.layers import Conv3D, LSTM, Dense, Dropout, Bidirectional, MaxPool3D, Activation, Reshape, SpatialDropout3D, BatchNormalization, TimeDistributed, Flatten\n",
    "from tensorflow.keras.optimizers import Adam\n",
    "from tensorflow.keras.callbacks import ModelCheckpoint, LearningRateScheduler"
   ]
  },
  {
   "cell_type": "code",
   "execution_count": 35,
   "id": "a224d895",
   "metadata": {},
   "outputs": [
    {
     "data": {
      "text/plain": [
       "(75, 46, 140, 1)"
      ]
     },
     "execution_count": 35,
     "metadata": {},
     "output_type": "execute_result"
    }
   ],
   "source": [
    "data.as_numpy_iterator().next()[0][0].shape"
   ]
  },
  {
   "cell_type": "code",
   "execution_count": 36,
   "id": "81baffa4",
   "metadata": {
    "tags": []
   },
   "outputs": [
    {
     "name": "stdout",
     "output_type": "stream",
     "text": [
      "Model: \"sequential\"\n",
      "_________________________________________________________________\n",
      " Layer (type)                Output Shape              Param #   \n",
      "=================================================================\n",
      " conv3d (Conv3D)             (None, 75, 46, 140, 128   3584      \n",
      "                             )                                   \n",
      "                                                                 \n",
      " activation (Activation)     (None, 75, 46, 140, 128   0         \n",
      "                             )                                   \n",
      "                                                                 \n",
      " max_pooling3d (MaxPooling3  (None, 75, 23, 70, 128)   0         \n",
      " D)                                                              \n",
      "                                                                 \n",
      " conv3d_1 (Conv3D)           (None, 75, 23, 70, 256)   884992    \n",
      "                                                                 \n",
      " activation_1 (Activation)   (None, 75, 23, 70, 256)   0         \n",
      "                                                                 \n",
      " max_pooling3d_1 (MaxPoolin  (None, 75, 11, 35, 256)   0         \n",
      " g3D)                                                            \n",
      "                                                                 \n",
      " conv3d_2 (Conv3D)           (None, 75, 11, 35, 75)    518475    \n",
      "                                                                 \n",
      " activation_2 (Activation)   (None, 75, 11, 35, 75)    0         \n",
      "                                                                 \n",
      " max_pooling3d_2 (MaxPoolin  (None, 75, 5, 17, 75)     0         \n",
      " g3D)                                                            \n",
      "                                                                 \n",
      " time_distributed (TimeDist  (None, 75, 6375)          0         \n",
      " ributed)                                                        \n",
      "                                                                 \n",
      " bidirectional (Bidirection  (None, 75, 256)           6660096   \n",
      " al)                                                             \n",
      "                                                                 \n",
      " dropout (Dropout)           (None, 75, 256)           0         \n",
      "                                                                 \n",
      " bidirectional_1 (Bidirecti  (None, 75, 256)           394240    \n",
      " onal)                                                           \n",
      "                                                                 \n",
      " dropout_1 (Dropout)         (None, 75, 256)           0         \n",
      "                                                                 \n",
      " dense (Dense)               (None, 75, 41)            10537     \n",
      "                                                                 \n",
      "=================================================================\n",
      "Total params: 8471924 (32.32 MB)\n",
      "Trainable params: 8471924 (32.32 MB)\n",
      "Non-trainable params: 0 (0.00 Byte)\n",
      "_________________________________________________________________\n"
     ]
    }
   ],
   "source": [
    "model = Sequential()\n",
    "model.add(Conv3D(128, 3, input_shape=(75,46,140,1), padding='same'))\n",
    "model.add(Activation('relu'))\n",
    "model.add(MaxPool3D((1,2,2)))\n",
    "# 75,23,70,128\n",
    "\n",
    "model.add(Conv3D(256, 3, padding='same'))\n",
    "model.add(Activation('relu'))\n",
    "model.add(MaxPool3D((1,2,2)))\n",
    "# 75,11,35,256\n",
    "\n",
    "model.add(Conv3D(75, 3, padding='same'))\n",
    "model.add(Activation('relu'))\n",
    "model.add(MaxPool3D((1,2,2)))\n",
    "# 75,5,17,75\n",
    "\n",
    "model.add(TimeDistributed(Flatten()))\n",
    "# 75, 6375\n",
    "\n",
    "model.add(Bidirectional(LSTM(128, kernel_initializer='Orthogonal', return_sequences=True)))\n",
    "model.add(Dropout(.5))\n",
    "\n",
    "model.add(Bidirectional(LSTM(128, kernel_initializer='Orthogonal', return_sequences=True)))\n",
    "model.add(Dropout(.5))\n",
    "\n",
    "model.add(Dense(char_to_num.vocabulary_size()+1, kernel_initializer='he_normal', activation='softmax'))\n",
    "model.summary()"
   ]
  },
  {
   "cell_type": "markdown",
   "id": "466d3f1c",
   "metadata": {},
   "source": [
    "<img src=\"ModelDiag.png\" alt=\"SpeakSee - Model Architecture\" width=\"1350\">\n"
   ]
  },
  {
   "cell_type": "code",
   "execution_count": null,
   "id": "0dbedf68",
   "metadata": {},
   "outputs": [],
   "source": []
  },
  {
   "cell_type": "code",
   "execution_count": 37,
   "id": "f96ba318",
   "metadata": {},
   "outputs": [
    {
     "name": "stdout",
     "output_type": "stream",
     "text": [
      "Input Shape = (None, 75, 46, 140, 1)\n",
      "Output Shape = (None, 75, 41)\n"
     ]
    }
   ],
   "source": [
    "print(\"Input Shape =\",model.input_shape)\n",
    "print(\"Output Shape =\", model.output_shape)"
   ]
  },
  {
   "cell_type": "code",
   "execution_count": 38,
   "id": "bdacacc4",
   "metadata": {
    "tags": []
   },
   "outputs": [
    {
     "name": "stdout",
     "output_type": "stream",
     "text": [
      "1/1 [==============================] - 9s 9s/step\n"
     ]
    }
   ],
   "source": [
    "yhat = model.predict(val[0])"
   ]
  },
  {
   "cell_type": "code",
   "execution_count": 39,
   "id": "e157dbac",
   "metadata": {},
   "outputs": [
    {
     "data": {
      "text/plain": [
       "<tf.Tensor: shape=(75,), dtype=int64, numpy=\n",
       "array([28, 28, 22, 22, 22, 22, 22, 22, 22,  4, 11, 11, 11, 11, 11, 11, 11,\n",
       "       11,  4,  4,  4, 11, 11, 11, 11, 11, 11, 11,  4,  4,  4,  4,  4,  4,\n",
       "        4,  4,  4,  4,  4,  4,  4,  4,  4,  4,  4,  4,  4,  4,  4,  4,  4,\n",
       "        4, 11, 11, 11, 11, 11, 11, 11, 11, 11, 11, 11, 11, 11, 11, 11, 11,\n",
       "       11, 11, 11, 11, 11, 11, 11], dtype=int64)>"
      ]
     },
     "execution_count": 39,
     "metadata": {},
     "output_type": "execute_result"
    }
   ],
   "source": [
    "tf.argmax(yhat[0],axis=1)"
   ]
  },
  {
   "cell_type": "code",
   "execution_count": 40,
   "id": "2d6973ec",
   "metadata": {},
   "outputs": [
    {
     "data": {
      "text/plain": [
       "<tf.Tensor: shape=(), dtype=string, numpy=b'??vvvvvvvdkkkkkkkkdddkkkkkkkddddddddddddddddddddddddkkkkkkkkkkkkkkkkkkkkkkk'>"
      ]
     },
     "execution_count": 40,
     "metadata": {},
     "output_type": "execute_result"
    }
   ],
   "source": [
    "tf.strings.reduce_join([num_to_char(x) for x in tf.argmax(yhat[0],axis=1)])"
   ]
  },
  {
   "cell_type": "markdown",
   "id": "bec58f1f",
   "metadata": {
    "tags": []
   },
   "source": [
    "# 4. Setup Training Options and Train"
   ]
  },
  {
   "cell_type": "code",
   "execution_count": 44,
   "id": "1590cdb8",
   "metadata": {
    "tags": []
   },
   "outputs": [],
   "source": [
    "def scheduler(epoch, lr):\n",
    "    if epoch < 30:\n",
    "        return lr\n",
    "    else:\n",
    "        return lr * tf.math.exp(-0.1)"
   ]
  },
  {
   "cell_type": "code",
   "execution_count": 45,
   "id": "f93a007b",
   "metadata": {
    "tags": []
   },
   "outputs": [],
   "source": [
    "def CTCLoss(y_true, y_pred):\n",
    "    batch_len = tf.cast(tf.shape(y_true)[0], dtype=\"int64\")\n",
    "    input_length = tf.cast(tf.shape(y_pred)[1], dtype=\"int64\")\n",
    "    label_length = tf.cast(tf.shape(y_true)[1], dtype=\"int64\")\n",
    "\n",
    "    input_length = input_length * tf.ones(shape=(batch_len, 1), dtype=\"int64\")\n",
    "    label_length = label_length * tf.ones(shape=(batch_len, 1), dtype=\"int64\")\n",
    "\n",
    "    loss = tf.keras.backend.ctc_batch_cost(y_true, y_pred, input_length, label_length)\n",
    "    return loss"
   ]
  },
  {
   "cell_type": "code",
   "execution_count": 46,
   "id": "d1d43d7f",
   "metadata": {
    "tags": []
   },
   "outputs": [],
   "source": [
    "class ProduceExample(tf.keras.callbacks.Callback): \n",
    "    def __init__(self, dataset) -> None: \n",
    "        self.dataset = dataset.as_numpy_iterator()\n",
    "    \n",
    "    def on_epoch_end(self, epoch, logs=None) -> None:\n",
    "        data = self.dataset.next()\n",
    "        yhat = self.model.predict(data[0])\n",
    "        decoded = tf.keras.backend.ctc_decode(yhat, [75,75], greedy=False)[0][0].numpy()\n",
    "        for x in range(len(yhat)):           \n",
    "            print('Original:', tf.strings.reduce_join(num_to_char(data[1][x])).numpy().decode('utf-8'))\n",
    "            print('Prediction:', tf.strings.reduce_join(num_to_char(decoded[x])).numpy().decode('utf-8'))\n",
    "            print('~'*100)"
   ]
  },
  {
   "cell_type": "code",
   "execution_count": 47,
   "id": "deb12196",
   "metadata": {
    "tags": []
   },
   "outputs": [],
   "source": [
    "from tensorflow.keras.optimizers.legacy import Adam \n",
    "model.compile(optimizer=Adam(learning_rate=0.0001), loss=CTCLoss)"
   ]
  },
  {
   "cell_type": "code",
   "execution_count": 48,
   "id": "9d018b87",
   "metadata": {
    "tags": []
   },
   "outputs": [],
   "source": [
    "checkpoint_callback = ModelCheckpoint(os.path.join('models','checkpoint'), monitor='loss', save_weights_only=True) \n",
    "schedule_callback = LearningRateScheduler(scheduler)\n",
    "example_callback = ProduceExample(test)"
   ]
  },
  {
   "cell_type": "code",
   "execution_count": 44,
   "id": "dabb6a36",
   "metadata": {
    "tags": []
   },
   "outputs": [],
   "source": [
    "#model.fit(train, validation_data=test, epochs=100, callbacks=[checkpoint_callback, schedule_callback, example_callback])"
   ]
  },
  {
   "cell_type": "markdown",
   "id": "c1500e75",
   "metadata": {
    "tags": []
   },
   "source": [
    "# 5. Make a Prediction "
   ]
  },
  {
   "cell_type": "code",
   "execution_count": 49,
   "id": "f43b7af7",
   "metadata": {
    "tags": []
   },
   "outputs": [
    {
     "data": {
      "text/plain": [
       "<tensorflow.python.checkpoint.checkpoint.CheckpointLoadStatus at 0x1505839d3f0>"
      ]
     },
     "execution_count": 49,
     "metadata": {},
     "output_type": "execute_result"
    }
   ],
   "source": [
    "model.load_weights('models/checkpoint')\n",
    "# print(model.summary())"
   ]
  },
  {
   "cell_type": "code",
   "execution_count": 50,
   "id": "d9b1327a",
   "metadata": {
    "tags": []
   },
   "outputs": [
    {
     "name": "stdout",
     "output_type": "stream",
     "text": [
      "1/1 [==============================] - 7s 7s/step\n"
     ]
    }
   ],
   "source": [
    "test_data = test.as_numpy_iterator()\n",
    "sample = test_data.next()\n",
    "yhat = model.predict(sample[0])"
   ]
  },
  {
   "cell_type": "code",
   "execution_count": 51,
   "id": "87362a50",
   "metadata": {},
   "outputs": [
    {
     "name": "stdout",
     "output_type": "stream",
     "text": [
      "REAL TEXT:\n",
      "['set green in v zero now', 'place white with r zero please']\n",
      "\n",
      "PREDICTED TEXT:\n",
      "['set   green  in   v   zerooo    nnooowwww', 'placce white  withh r   zerooo   ppplleeaassseee']\n"
     ]
    }
   ],
   "source": [
    "print(\"REAL TEXT:\")\n",
    "real_text = [\n",
    "    tf.strings.reduce_join([num_to_char(word) for word in sentence]).numpy().decode('utf-8') \n",
    "    for sentence in sample[1]\n",
    "]\n",
    "print(real_text)\n",
    "\n",
    "predicted_text = [\n",
    "    tf.strings.reduce_join([num_to_char(word) for word in np.argmax(pred, axis=-1)]).numpy().decode('utf-8')\n",
    "    for pred in yhat\n",
    "]\n",
    "print(\"\\nPREDICTED TEXT:\")\n",
    "print(predicted_text)\n"
   ]
  },
  {
   "cell_type": "code",
   "execution_count": 52,
   "id": "e510f416",
   "metadata": {
    "tags": []
   },
   "outputs": [
    {
     "name": "stdout",
     "output_type": "stream",
     "text": [
      "REAL TEXT\n"
     ]
    },
    {
     "data": {
      "text/plain": [
       "[<tf.Tensor: shape=(), dtype=string, numpy=b'set green in v zero now'>,\n",
       " <tf.Tensor: shape=(), dtype=string, numpy=b'place white with r zero please'>]"
      ]
     },
     "execution_count": 52,
     "metadata": {},
     "output_type": "execute_result"
    }
   ],
   "source": [
    "print('REAL TEXT')\n",
    "[tf.strings.reduce_join([num_to_char(word) for word in sentence]) for sentence in sample[1]]"
   ]
  },
  {
   "cell_type": "code",
   "execution_count": 53,
   "id": "8cec7bbe",
   "metadata": {
    "tags": []
   },
   "outputs": [],
   "source": [
    "decoded = tf.keras.backend.ctc_decode(yhat, input_length=[75,75], greedy=True)[0][0].numpy() # how to the extra letters get removed"
   ]
  },
  {
   "cell_type": "code",
   "execution_count": 54,
   "id": "7d527f61",
   "metadata": {
    "tags": []
   },
   "outputs": [
    {
     "name": "stdout",
     "output_type": "stream",
     "text": [
      "PREDICTIONS\n"
     ]
    },
    {
     "data": {
      "text/plain": [
       "[<tf.Tensor: shape=(), dtype=string, numpy=b'set green in v zero now'>,\n",
       " <tf.Tensor: shape=(), dtype=string, numpy=b'place white with r zero please'>]"
      ]
     },
     "execution_count": 54,
     "metadata": {},
     "output_type": "execute_result"
    }
   ],
   "source": [
    "print('PREDICTIONS')\n",
    "[tf.strings.reduce_join([num_to_char(word) for word in sentence]) for sentence in decoded]"
   ]
  },
  {
   "cell_type": "code",
   "execution_count": null,
   "id": "1133a911",
   "metadata": {},
   "outputs": [
    {
     "name": "stdout",
     "output_type": "stream",
     "text": [
      "1/1 [==============================] - 4s 4s/step\n",
      "1/1 [==============================] - 4s 4s/step\n",
      "1/1 [==============================] - 4s 4s/step\n",
      "1/1 [==============================] - 4s 4s/step\n",
      "1/1 [==============================] - 3s 3s/step\n",
      "1/1 [==============================] - 3s 3s/step\n",
      "1/1 [==============================] - 3s 3s/step\n",
      "1/1 [==============================] - 3s 3s/step\n",
      "1/1 [==============================] - 3s 3s/step\n",
      "1/1 [==============================] - 3s 3s/step\n",
      "1/1 [==============================] - 3s 3s/step\n",
      "1/1 [==============================] - 4s 4s/step\n",
      "1/1 [==============================] - 4s 4s/step\n",
      "1/1 [==============================] - 4s 4s/step\n",
      "1/1 [==============================] - 3s 3s/step\n",
      "1/1 [==============================] - 4s 4s/step\n",
      "1/1 [==============================] - 4s 4s/step\n",
      "1/1 [==============================] - 4s 4s/step\n",
      "1/1 [==============================] - 4s 4s/step\n",
      "1/1 [==============================] - 4s 4s/step\n",
      "1/1 [==============================] - 4s 4s/step\n",
      "1/1 [==============================] - 4s 4s/step\n",
      "1/1 [==============================] - 4s 4s/step\n",
      "1/1 [==============================] - 4s 4s/step\n",
      "1/1 [==============================] - 4s 4s/step\n",
      "1/1 [==============================] - 4s 4s/step\n",
      "1/1 [==============================] - 4s 4s/step\n",
      "1/1 [==============================] - 4s 4s/step\n",
      "1/1 [==============================] - 4s 4s/step\n",
      "1/1 [==============================] - 4s 4s/step\n",
      "1/1 [==============================] - 4s 4s/step\n",
      "1/1 [==============================] - 4s 4s/step\n",
      "1/1 [==============================] - 4s 4s/step\n",
      "1/1 [==============================] - 3s 3s/step\n",
      "1/1 [==============================] - 3s 3s/step\n",
      "1/1 [==============================] - 3s 3s/step\n",
      "1/1 [==============================] - 3s 3s/step\n",
      "1/1 [==============================] - 3s 3s/step\n",
      "1/1 [==============================] - 4s 4s/step\n",
      "1/1 [==============================] - 3s 3s/step\n",
      "1/1 [==============================] - 3s 3s/step\n",
      "1/1 [==============================] - 4s 4s/step\n",
      "1/1 [==============================] - 3s 3s/step\n",
      "1/1 [==============================] - 4s 4s/step\n",
      "1/1 [==============================] - 3s 3s/step\n",
      "1/1 [==============================] - 3s 3s/step\n",
      "1/1 [==============================] - 4s 4s/step\n",
      "1/1 [==============================] - 4s 4s/step\n",
      "1/1 [==============================] - 4s 4s/step\n",
      "1/1 [==============================] - 4s 4s/step\n",
      "1/1 [==============================] - 4s 4s/step\n",
      "1/1 [==============================] - 4s 4s/step\n",
      "1/1 [==============================] - 4s 4s/step\n",
      "1/1 [==============================] - 4s 4s/step\n",
      "1/1 [==============================] - 4s 4s/step\n",
      "1/1 [==============================] - 4s 4s/step\n",
      "1/1 [==============================] - 4s 4s/step\n",
      "1/1 [==============================] - 4s 4s/step\n",
      "1/1 [==============================] - 4s 4s/step\n",
      "1/1 [==============================] - 4s 4s/step\n",
      "1/1 [==============================] - 4s 4s/step\n",
      "1/1 [==============================] - 4s 4s/step\n",
      "1/1 [==============================] - 4s 4s/step\n",
      "1/1 [==============================] - 4s 4s/step\n",
      "1/1 [==============================] - 4s 4s/step\n",
      "1/1 [==============================] - 4s 4s/step\n",
      "1/1 [==============================] - 4s 4s/step\n",
      "1/1 [==============================] - 4s 4s/step\n",
      "1/1 [==============================] - 4s 4s/step\n",
      "1/1 [==============================] - 3s 3s/step\n",
      "1/1 [==============================] - 3s 3s/step\n",
      "1/1 [==============================] - 4s 4s/step\n",
      "1/1 [==============================] - 3s 3s/step\n",
      "1/1 [==============================] - 4s 4s/step\n",
      "1/1 [==============================] - 4s 4s/step\n",
      "1/1 [==============================] - 4s 4s/step\n",
      "1/1 [==============================] - 4s 4s/step\n",
      "1/1 [==============================] - 3s 3s/step\n",
      "1/1 [==============================] - 4s 4s/step\n",
      "1/1 [==============================] - 4s 4s/step\n",
      "1/1 [==============================] - 4s 4s/step\n",
      "1/1 [==============================] - 3s 3s/step\n",
      "1/1 [==============================] - 4s 4s/step\n",
      "1/1 [==============================] - 3s 3s/step\n",
      "1/1 [==============================] - 3s 3s/step\n",
      "1/1 [==============================] - 4s 4s/step\n",
      "1/1 [==============================] - 3s 3s/step\n",
      "1/1 [==============================] - 3s 3s/step\n",
      "1/1 [==============================] - 4s 4s/step\n",
      "1/1 [==============================] - 4s 4s/step\n",
      "1/1 [==============================] - 3s 3s/step\n",
      "1/1 [==============================] - 4s 4s/step\n",
      "1/1 [==============================] - 3s 3s/step\n",
      "1/1 [==============================] - 3s 3s/step\n",
      "1/1 [==============================] - 3s 3s/step\n",
      "1/1 [==============================] - 3s 3s/step\n",
      "1/1 [==============================] - 3s 3s/step\n",
      "1/1 [==============================] - 3s 3s/step\n",
      "1/1 [==============================] - 3s 3s/step\n",
      "1/1 [==============================] - 3s 3s/step\n",
      "\n",
      "Average WER for the entire dataset: 0.0129\n",
      "Overall Accuracy: 93.00%\n"
     ]
    }
   ],
   "source": [
    "import numpy as np\n",
    "import tensorflow as tf\n",
    "from jiwer import wer \n",
    "\n",
    "# Load the model weights\n",
    "model.load_weights('models/checkpoint')\n",
    "seed = 1\n",
    "# Initialize lists to store real and predicted texts\n",
    "all_real_text = []\n",
    "all_predicted_text = []\n",
    "\n",
    "# Iterate over all batches in the test dataset\n",
    "for sample in test:\n",
    "    # Make a prediction for each batch\n",
    "    yhat = model.predict(sample[0])\n",
    "\n",
    "    # Convert real text\n",
    "    real_text = [\n",
    "        tf.strings.reduce_join([num_to_char(word) for word in sentence]).numpy().decode('utf-8')\n",
    "        for sentence in sample[1]\n",
    "    ]\n",
    "    all_real_text.extend(real_text)\n",
    "\n",
    "    # Decode the model predictions\n",
    "    decoded = tf.keras.backend.ctc_decode(yhat, input_length=[75,75], greedy=True)[0][0].numpy()\n",
    "    \n",
    "    # Convert decoded predictions to text\n",
    "    predicted_text = [\n",
    "        tf.strings.reduce_join([num_to_char(word) for word in sentence]).numpy().decode('utf-8')\n",
    "        for sentence in decoded\n",
    "    ]\n",
    "    all_predicted_text.extend(predicted_text)\n",
    "\n",
    "# Calculate Word Error Rate (WER) for the entire dataset\n",
    "wer_scores = [wer(rt, pt) for rt, pt in zip(all_real_text, all_predicted_text)]\n",
    "average_wer = np.mean(wer_scores)\n",
    "print(f\"\\nAverage WER for the entire dataset: {average_wer:.4f}\")\n",
    "\n",
    "# Calculate simple accuracy (exact match) for the entire dataset\n",
    "correct_predictions = sum(rt == pt for rt, pt in zip(all_real_text, all_predicted_text))\n",
    "accuracy = correct_predictions / len(all_real_text)\n",
    "print(f\"Overall Accuracy: {accuracy * 100:.2f}%\")\n"
   ]
  },
  {
   "cell_type": "markdown",
   "id": "611df0aa",
   "metadata": {},
   "source": [
    "# Test on a Video"
   ]
  },
  {
   "cell_type": "code",
   "execution_count": 52,
   "id": "63dfaa29",
   "metadata": {},
   "outputs": [],
   "source": [
    "sample = load_data(tf.convert_to_tensor('D:\\Python Code\\data\\s1\\srwi4p.mpg'))"
   ]
  },
  {
   "cell_type": "code",
   "execution_count": 53,
   "id": "37691e76",
   "metadata": {},
   "outputs": [
    {
     "name": "stdout",
     "output_type": "stream",
     "text": [
      "REAL TEXT\n"
     ]
    },
    {
     "data": {
      "text/plain": [
       "[<tf.Tensor: shape=(), dtype=string, numpy=b'set red with i four please'>]"
      ]
     },
     "execution_count": 53,
     "metadata": {},
     "output_type": "execute_result"
    }
   ],
   "source": [
    "print('REAL TEXT')\n",
    "[tf.strings.reduce_join([num_to_char(word) for word in sentence]) for sentence in [sample[1]]]"
   ]
  },
  {
   "cell_type": "code",
   "execution_count": 54,
   "id": "49675113",
   "metadata": {},
   "outputs": [
    {
     "name": "stdout",
     "output_type": "stream",
     "text": [
      "1/1 [==============================] - 2s 2s/step\n"
     ]
    }
   ],
   "source": [
    "yhat = model.predict(tf.expand_dims(sample[0], axis=0))"
   ]
  },
  {
   "cell_type": "code",
   "execution_count": 55,
   "id": "1779207a",
   "metadata": {},
   "outputs": [],
   "source": [
    "decoded = tf.keras.backend.ctc_decode(yhat, input_length=[75], greedy=True)[0][0].numpy()"
   ]
  },
  {
   "cell_type": "code",
   "execution_count": 56,
   "id": "bdd946b9",
   "metadata": {},
   "outputs": [
    {
     "name": "stdout",
     "output_type": "stream",
     "text": [
      "PREDICTIONS\n"
     ]
    },
    {
     "data": {
      "text/plain": [
       "[<tf.Tensor: shape=(), dtype=string, numpy=b'set red with i four please'>]"
      ]
     },
     "execution_count": 56,
     "metadata": {},
     "output_type": "execute_result"
    }
   ],
   "source": [
    "print('PREDICTIONS')\n",
    "[tf.strings.reduce_join([num_to_char(word) for word in sentence]) for sentence in decoded]"
   ]
  }
 ],
 "metadata": {
  "kernelspec": {
   "display_name": ".venv",
   "language": "python",
   "name": "python3"
  },
  "language_info": {
   "codemirror_mode": {
    "name": "ipython",
    "version": 3
   },
   "file_extension": ".py",
   "mimetype": "text/x-python",
   "name": "python",
   "nbconvert_exporter": "python",
   "pygments_lexer": "ipython3",
   "version": "3.10.11"
  }
 },
 "nbformat": 4,
 "nbformat_minor": 5
}
